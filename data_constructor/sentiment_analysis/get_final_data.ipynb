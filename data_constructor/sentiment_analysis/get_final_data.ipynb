{
 "cells": [
  {
   "cell_type": "code",
   "execution_count": 1,
   "id": "050de652",
   "metadata": {},
   "outputs": [],
   "source": [
    "import os\n",
    "import sys\n",
    "import numpy as np\n",
    "import pandas as pd\n",
    "import sklearn\n",
    "import sklearn.metrics as metrics\n",
    "from matplotlib import pyplot as plt\n",
    "import seaborn as sns\n",
    "from collections import Counter\n",
    "\n",
    "from scipy.stats import kstest, ks_2samp, mannwhitneyu\n",
    "from scipy.stats import ttest_ind,ttest_rel\n",
    "\n",
    "# 基于不同的情绪，分析时间分布的差异\n",
    "# 回答问题：不同情绪下，用户表达的时间感知是否存在差异？"
   ]
  },
  {
   "cell_type": "markdown",
   "id": "5d9f072e",
   "metadata": {},
   "source": [
    "----\n",
    "# Load data"
   ]
  },
  {
   "cell_type": "code",
   "execution_count": 3,
   "id": "43fd8229",
   "metadata": {},
   "outputs": [],
   "source": [
    "# multiv = pd.read_csv(\"pred_results/valence_multitask_pred.csv\", )\n",
    "singlev = pd.read_csv(\"pred_results/valence_singletask8_pred.csv\", ) # valence prediction 结果\n",
    "sim8 = pd.read_csv(\"./pred_results/8mood_w2v_simscore.csv\", ) # 基于similarity的discrete emotion结果\n",
    "cnt8 = pd.read_csv(\"./pred_results/8mood_cnt_normscore.csv\", ) # 基于count的discrete emotion结果"
   ]
  },
  {
   "cell_type": "code",
   "execution_count": 167,
   "id": "74de460b",
   "metadata": {
    "scrolled": false
   },
   "outputs": [
    {
     "data": {
      "text/plain": [
       "((44568, 24), 42353)"
      ]
     },
     "execution_count": 167,
     "metadata": {},
     "output_type": "execute_result"
    }
   ],
   "source": [
    "singlev.shape,singlev.user_id.nunique()"
   ]
  },
  {
   "cell_type": "code",
   "execution_count": 169,
   "id": "290b6177",
   "metadata": {
    "scrolled": true
   },
   "outputs": [
    {
     "data": {
      "text/plain": [
       "Fast    40723\n",
       "Slow     3845\n",
       "Name: time, dtype: int64"
      ]
     },
     "execution_count": 169,
     "metadata": {},
     "output_type": "execute_result"
    }
   ],
   "source": [
    "singlev.time.value_counts()"
   ]
  },
  {
   "cell_type": "code",
   "execution_count": 168,
   "id": "e4811b92",
   "metadata": {
    "scrolled": true
   },
   "outputs": [
    {
     "data": {
      "text/plain": [
       "time\n",
       "Fast    38708\n",
       "Slow     3806\n",
       "Name: user_id, dtype: int64"
      ]
     },
     "execution_count": 168,
     "metadata": {},
     "output_type": "execute_result"
    }
   ],
   "source": [
    "singlev.groupby('time').user_id.nunique()"
   ]
  },
  {
   "cell_type": "code",
   "execution_count": 5,
   "id": "9947adaf",
   "metadata": {},
   "outputs": [],
   "source": [
    "# 只保留1月20日之后的数据\n",
    "valid_ids = singlev.loc[singlev.created_at>='2020-01-20',\"id\"].to_numpy()"
   ]
  },
  {
   "cell_type": "code",
   "execution_count": 6,
   "id": "44c97642",
   "metadata": {},
   "outputs": [],
   "source": [
    "singlev = singlev.loc[singlev['id'].isin(valid_ids)].reset_index(drop=True).copy()\n",
    "sim8 = sim8.loc[sim8['id'].isin(valid_ids)].reset_index(drop=True).copy()\n",
    "cnt8 = cnt8.loc[cnt8['id'].isin(valid_ids)].reset_index(drop=True).copy()"
   ]
  },
  {
   "cell_type": "code",
   "execution_count": 119,
   "id": "8934fe2d",
   "metadata": {},
   "outputs": [
    {
     "data": {
      "text/plain": [
       "(38869, 15)"
      ]
     },
     "execution_count": 119,
     "metadata": {},
     "output_type": "execute_result"
    }
   ],
   "source": [
    "sim8.shape"
   ]
  },
  {
   "cell_type": "code",
   "execution_count": 121,
   "id": "c5ded53a",
   "metadata": {},
   "outputs": [
    {
     "data": {
      "text/plain": [
       "0.8721279842039131"
      ]
     },
     "execution_count": 121,
     "metadata": {},
     "output_type": "execute_result"
    }
   ],
   "source": [
    "38869/44568"
   ]
  },
  {
   "cell_type": "code",
   "execution_count": 8,
   "id": "0d309a0f",
   "metadata": {},
   "outputs": [
    {
     "data": {
      "text/plain": [
       "(44568, 21)"
      ]
     },
     "execution_count": 8,
     "metadata": {},
     "output_type": "execute_result"
    }
   ],
   "source": [
    "singlev.shape"
   ]
  },
  {
   "cell_type": "code",
   "execution_count": 9,
   "id": "2c0e6c92",
   "metadata": {},
   "outputs": [],
   "source": [
    "moods = ['喜爱','快乐','期望','惊讶','厌恶','悲伤','愤怒','焦虑']\n",
    "moods_eng = [\"love\",\"joy\",'hope','surprise',\"disgust\",\"sad\",\"angry\",\"anxiety\"]"
   ]
  },
  {
   "cell_type": "code",
   "execution_count": 10,
   "id": "ce86c639",
   "metadata": {},
   "outputs": [],
   "source": [
    "sim8[\"pred_mood\"] = sim8[moods].to_numpy().argmax(axis=1)"
   ]
  },
  {
   "cell_type": "code",
   "execution_count": 11,
   "id": "4d874c0b",
   "metadata": {
    "scrolled": true
   },
   "outputs": [
    {
     "name": "stdout",
     "output_type": "stream",
     "text": [
      "0.6788054209298151\n",
      "Counter({1: 30253, 2: 6209, 8: 5885, 3: 1687, 4: 438, 5: 79, 6: 15, 7: 2})\n"
     ]
    }
   ],
   "source": [
    "# cnt方法可能有多个emotion的score相同，只保留至多有两个相同score的微博，并随机取一个作为该微博的emotion\n",
    "max_score = cnt8[moods].max(axis=1)\n",
    "print(((cnt8[moods].to_numpy() == max_score.to_numpy().reshape(-1,1)).sum(axis=1) == 1).mean())\n",
    "print(Counter((cnt8[moods].to_numpy() == max_score.to_numpy().reshape(-1,1)).sum(axis=1)))\n",
    "\n",
    "cnt8[\"max_num\"] = (cnt8[moods].to_numpy() == max_score.to_numpy().reshape(-1,1)).sum(axis=1)\n",
    "\n",
    "np.random.seed(0)\n",
    "pred_mood = []\n",
    "for m in cnt8[moods].to_numpy() == max_score.to_numpy().reshape(-1,1):\n",
    "    pred_mood.append(np.random.choice(m.argsort()[::-1][:m.sum()]))\n",
    "    \n",
    "# 保留两个及以下相同值的微博\n",
    "cnt8[\"pred_mood\"] = pred_mood\n",
    "cnt8 = cnt8.loc[cnt8.max_num<3].reset_index(drop=True)"
   ]
  },
  {
   "cell_type": "code",
   "execution_count": 10,
   "id": "effe6bbf",
   "metadata": {},
   "outputs": [],
   "source": [
    "figdir= \"./figures_Febstart_0402/\"\n",
    "os.makedirs(figdir,exist_ok=True) # 创建文件夹"
   ]
  },
  {
   "cell_type": "code",
   "execution_count": 104,
   "id": "4d903617",
   "metadata": {},
   "outputs": [],
   "source": [
    "figdir= \"./figures_Febstart_0702_percentage/\"\n",
    "os.makedirs(figdir,exist_ok=True) # 创建文件夹"
   ]
  },
  {
   "cell_type": "code",
   "execution_count": 11,
   "id": "a81aa4dd",
   "metadata": {
    "scrolled": true
   },
   "outputs": [
    {
     "data": {
      "text/plain": [
       "Fast    40723\n",
       "Slow     3845\n",
       "Name: time, dtype: int64"
      ]
     },
     "execution_count": 11,
     "metadata": {},
     "output_type": "execute_result"
    }
   ],
   "source": [
    "singlev.time.value_counts()"
   ]
  },
  {
   "cell_type": "code",
   "execution_count": 126,
   "id": "ffcc7401",
   "metadata": {
    "scrolled": true
   },
   "outputs": [],
   "source": [
    "os.makedirs(\"./Final_data/\",exist_ok=True)\n",
    "sim8[['id','time','pred_mood','month','date','week']].to_csv(\"Final_data/discrete_emotion.csv\",index=False)\n",
    "singlev[['id','user_id','timestamp','time','model_reweight_c','month','date','week','template','keyword']].to_csv(\n",
    "            \"Final_data/valence_emotion.csv\",index=False)"
   ]
  },
  {
   "cell_type": "markdown",
   "id": "e2dda0be",
   "metadata": {},
   "source": [
    "------\n"
   ]
  },
  {
   "cell_type": "code",
   "execution_count": 12,
   "id": "2b71b875",
   "metadata": {
    "scrolled": false
   },
   "outputs": [
    {
     "data": {
      "text/html": [
       "<div>\n",
       "<style scoped>\n",
       "    .dataframe tbody tr th:only-of-type {\n",
       "        vertical-align: middle;\n",
       "    }\n",
       "\n",
       "    .dataframe tbody tr th {\n",
       "        vertical-align: top;\n",
       "    }\n",
       "\n",
       "    .dataframe thead th {\n",
       "        text-align: right;\n",
       "    }\n",
       "</style>\n",
       "<table border=\"1\" class=\"dataframe\">\n",
       "  <thead>\n",
       "    <tr style=\"text-align: right;\">\n",
       "      <th></th>\n",
       "      <th>sim_love</th>\n",
       "      <th>sim_joy</th>\n",
       "      <th>sim_hope</th>\n",
       "      <th>sim_surprise</th>\n",
       "      <th>sim_disgust</th>\n",
       "      <th>sim_sad</th>\n",
       "      <th>sim_angry</th>\n",
       "      <th>sim_anxiety</th>\n",
       "    </tr>\n",
       "  </thead>\n",
       "  <tbody>\n",
       "    <tr>\n",
       "      <th>cnt_love</th>\n",
       "      <td>4488</td>\n",
       "      <td>562</td>\n",
       "      <td>389</td>\n",
       "      <td>29</td>\n",
       "      <td>11</td>\n",
       "      <td>223</td>\n",
       "      <td>17</td>\n",
       "      <td>61</td>\n",
       "    </tr>\n",
       "    <tr>\n",
       "      <th>cnt_joy</th>\n",
       "      <td>512</td>\n",
       "      <td>6699</td>\n",
       "      <td>895</td>\n",
       "      <td>132</td>\n",
       "      <td>19</td>\n",
       "      <td>258</td>\n",
       "      <td>16</td>\n",
       "      <td>114</td>\n",
       "    </tr>\n",
       "    <tr>\n",
       "      <th>cnt_hope</th>\n",
       "      <td>759</td>\n",
       "      <td>1184</td>\n",
       "      <td>10094</td>\n",
       "      <td>91</td>\n",
       "      <td>47</td>\n",
       "      <td>748</td>\n",
       "      <td>47</td>\n",
       "      <td>430</td>\n",
       "    </tr>\n",
       "    <tr>\n",
       "      <th>cnt_surprise</th>\n",
       "      <td>36</td>\n",
       "      <td>69</td>\n",
       "      <td>64</td>\n",
       "      <td>1059</td>\n",
       "      <td>6</td>\n",
       "      <td>177</td>\n",
       "      <td>16</td>\n",
       "      <td>42</td>\n",
       "    </tr>\n",
       "    <tr>\n",
       "      <th>cnt_disgust</th>\n",
       "      <td>25</td>\n",
       "      <td>16</td>\n",
       "      <td>19</td>\n",
       "      <td>2</td>\n",
       "      <td>164</td>\n",
       "      <td>21</td>\n",
       "      <td>13</td>\n",
       "      <td>16</td>\n",
       "    </tr>\n",
       "    <tr>\n",
       "      <th>cnt_sad</th>\n",
       "      <td>113</td>\n",
       "      <td>143</td>\n",
       "      <td>144</td>\n",
       "      <td>15</td>\n",
       "      <td>10</td>\n",
       "      <td>2531</td>\n",
       "      <td>21</td>\n",
       "      <td>95</td>\n",
       "    </tr>\n",
       "    <tr>\n",
       "      <th>cnt_angry</th>\n",
       "      <td>20</td>\n",
       "      <td>26</td>\n",
       "      <td>40</td>\n",
       "      <td>2</td>\n",
       "      <td>5</td>\n",
       "      <td>35</td>\n",
       "      <td>150</td>\n",
       "      <td>18</td>\n",
       "    </tr>\n",
       "    <tr>\n",
       "      <th>cnt_anxiety</th>\n",
       "      <td>303</td>\n",
       "      <td>133</td>\n",
       "      <td>141</td>\n",
       "      <td>27</td>\n",
       "      <td>9</td>\n",
       "      <td>233</td>\n",
       "      <td>15</td>\n",
       "      <td>1885</td>\n",
       "    </tr>\n",
       "  </tbody>\n",
       "</table>\n",
       "</div>"
      ],
      "text/plain": [
       "              sim_love  sim_joy  sim_hope  sim_surprise  sim_disgust  sim_sad  \\\n",
       "cnt_love          4488      562       389            29           11      223   \n",
       "cnt_joy            512     6699       895           132           19      258   \n",
       "cnt_hope           759     1184     10094            91           47      748   \n",
       "cnt_surprise        36       69        64          1059            6      177   \n",
       "cnt_disgust         25       16        19             2          164       21   \n",
       "cnt_sad            113      143       144            15           10     2531   \n",
       "cnt_angry           20       26        40             2            5       35   \n",
       "cnt_anxiety        303      133       141            27            9      233   \n",
       "\n",
       "              sim_angry  sim_anxiety  \n",
       "cnt_love             17           61  \n",
       "cnt_joy              16          114  \n",
       "cnt_hope             47          430  \n",
       "cnt_surprise         16           42  \n",
       "cnt_disgust          13           16  \n",
       "cnt_sad              21           95  \n",
       "cnt_angry           150           18  \n",
       "cnt_anxiety          15         1885  "
      ]
     },
     "metadata": {},
     "output_type": "display_data"
    }
   ],
   "source": [
    "# sim和cnt方法结果的相似性\n",
    "all8 = cnt8[[\"id\",\"pred_mood\"]].rename(columns={\"pred_mood\":\"cnt_mood\"}).merge(\n",
    "        sim8[[\"id\",\"pred_mood\"]].rename(columns={\"pred_mood\":\"sim_mood\"}))\n",
    "eight_matrix = all8.groupby(\"cnt_mood\").sim_mood.value_counts().unstack().fillna(0)\n",
    "eight_matrix.columns,eight_matrix.index = [\"sim_\"+m for m in moods_eng],[\"cnt_\"+m for m in moods_eng]\n",
    "display(eight_matrix.astype(int))\n",
    "#sns.heatmap(eight_matrix)"
   ]
  }
 ],
 "metadata": {
  "kernelspec": {
   "display_name": "Python 3",
   "language": "python",
   "name": "python3"
  },
  "language_info": {
   "codemirror_mode": {
    "name": "ipython",
    "version": 3
   },
   "file_extension": ".py",
   "mimetype": "text/x-python",
   "name": "python",
   "nbconvert_exporter": "python",
   "pygments_lexer": "ipython3",
   "version": "3.6.13"
  }
 },
 "nbformat": 4,
 "nbformat_minor": 5
}
