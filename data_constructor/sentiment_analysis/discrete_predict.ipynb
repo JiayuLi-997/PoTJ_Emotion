{
 "cells": [
  {
   "cell_type": "code",
   "execution_count": 1,
   "metadata": {},
   "outputs": [],
   "source": [
    "import os\n",
    "import sys\n",
    "import numpy as np\n",
    "import pandas as pd\n",
    "import sklearn\n",
    "import sklearn.metrics as metrics"
   ]
  },
  {
   "cell_type": "markdown",
   "metadata": {},
   "source": [
    "## 通过words similarity来计算离散情绪词和时间流逝感的关系（weibo bagging）"
   ]
  },
  {
   "cell_type": "code",
   "execution_count": 121,
   "metadata": {},
   "outputs": [],
   "source": [
    "## word similarity (word2vec)(离散情绪与sentence word的bagging的similarity)"
   ]
  },
  {
   "cell_type": "code",
   "execution_count": 134,
   "metadata": {},
   "outputs": [],
   "source": [
    "from tqdm.notebook import tqdm"
   ]
  },
  {
   "cell_type": "code",
   "execution_count": 137,
   "metadata": {},
   "outputs": [],
   "source": [
    "from harvesttext import HarvestText\n",
    "from harvesttext.resources import get_qh_typed_words\n",
    "import re\n",
    "\n",
    "ht = HarvestText()\n",
    "typed_words = get_qh_typed_words()\n",
    "ht.add_typed_words(typed_words)\n",
    "ht.add_new_words(['时光飞逝', '时间飞逝', '白驹过隙', '一眨眼', '光阴似箭', '岁月如梭', '时光匆匆', '时间匆匆', '如梭', '转眼', '日月如梭', '转瞬即逝', '一下子', '一晃', '如驹', '过隙', '即逝', '一转眼', '时光荏苒', '一晃而过', '忽忽', '光阴似箭', '光阴如箭', '光阴', '度日如年', '漫长', '漫漫', '漫漫长夜', '这么久', '三秋', '日长似岁', '漫长', '度日如年', '一日三秋', '寸阴若岁', '时间过得慢', '过得慢'])\n",
    "#ht.add_entities(['时间'])\n",
    "puncs = re.compile(r\"\\s|\\.|\\(|\\)|\"+\"|\".join([\":\",\",\",\"，\",\"。\",\"、\",\"：\",\"；\",\"？\",\"！\",\"（\",\"）\",\"《\",\"》\",\"#\",\n",
    "                         \"-\",\"——\",\"·\",\"……\",\"‘\",\"’\",\"“\",\"”\",\"/\",r\"\\\\\",\"\\\\[\",\"\\\\]\",\"【\",\"】\",\"\\\\|\",\"℃\",\"—>\",\"\\n\"]))"
   ]
  },
  {
   "cell_type": "code",
   "execution_count": 145,
   "metadata": {},
   "outputs": [],
   "source": [
    "stop_words = []\n",
    "with open(\"stopwords/cn_stopwords.txt\") as F:\n",
    "    for line in F:\n",
    "        stop_words.append(line.strip())\n",
    "stop_words = set(stop_words)"
   ]
  },
  {
   "cell_type": "code",
   "execution_count": 127,
   "metadata": {},
   "outputs": [],
   "source": [
    "# load word2vec, the model can be downloaded from https://cloud.tsinghua.edu.cn/f/6a38cc42c881499798ae/?dl=1 \n",
    "from gensim.models import KeyedVectors\n",
    "model_dir = \"../../Dict_construct/Words/src/\"\n",
    "model = KeyedVectors.load_word2vec_format(os.path.join(model_dir,\"word2vec128.model\"), binary=False)"
   ]
  },
  {
   "cell_type": "code",
   "execution_count": 181,
   "metadata": {},
   "outputs": [],
   "source": [
    "# 去除停用词：https://github.com/goto456/stopwords\n",
    "def split_weibo(weibo, do=0):\n",
    "    all_words = []\n",
    "    sentences = ht.cut_sentences(weibo)\n",
    "    for sen in sentences:\n",
    "        sen_split = []\n",
    "        for param in puncs.split(sen):\n",
    "            if len(param):\n",
    "                sen_split+=ht.seg(param,stopwords=[\"全文\"],return_sent=False)\n",
    "        if len(sen_split):\n",
    "            if do:\n",
    "                print(sen_split)\n",
    "            all_words += sen_split\n",
    "    select_words = []\n",
    "    vectors = []\n",
    "    for w in all_words:\n",
    "        if w not in stop_words:\n",
    "            select_words.append(w)\n",
    "            try:\n",
    "                v = model.get_vector(w)\n",
    "                vectors.append(v/np.linalg.norm(v))\n",
    "            except:\n",
    "                continue\n",
    "    return select_words,np.array(vectors)"
   ]
  },
  {
   "cell_type": "code",
   "execution_count": 122,
   "metadata": {},
   "outputs": [],
   "source": [
    "# load 情绪词典data\n",
    "mood_dir = \"./Lexicon_weibo_mood_dictionary/\"\n",
    "mood_dict = {}\n",
    "for file in os.listdir(mood_dir):\n",
    "    if file[:3] != \"总词库\":\n",
    "        mood = file[:2]\n",
    "        mood_dict[mood] = []\n",
    "        with open(os.path.join(mood_dir,file)) as F:\n",
    "            for line in F:\n",
    "                mood_dict[mood].append(line.strip())"
   ]
  },
  {
   "cell_type": "code",
   "execution_count": 322,
   "metadata": {
    "scrolled": true
   },
   "outputs": [
    {
     "name": "stdout",
     "output_type": "stream",
     "text": [
      "期望 358\n",
      "悲伤 461\n",
      "快乐 428\n",
      "厌恶 379\n",
      "焦虑 382\n",
      "惊讶 131\n",
      "喜爱 621\n",
      "愤怒 396\n"
     ]
    }
   ],
   "source": [
    "m_num = {}\n",
    "for m in mood_dict:\n",
    "    print(m,len(mood_dict[m]))\n",
    "    m_num[m] = len(mood_dict[m])"
   ]
  },
  {
   "cell_type": "code",
   "execution_count": 182,
   "metadata": {
    "scrolled": true
   },
   "outputs": [
    {
     "name": "stdout",
     "output_type": "stream",
     "text": [
      "Model not include 愿我们\n",
      "Model not include 健健康康\n",
      "Model not include 愿所有人\n",
      "Model not include 一定要\n",
      "Model not include 越来越好\n",
      "Model not include 好起来\n",
      "Model not include 走下去\n",
      "Model not include 更好的\n",
      "Model not include 要努力\n",
      "Model not include 想成为\n",
      "Model not include 新的一年\n",
      "Model not include 祝大家\n",
      "Model not include 冲呀\n",
      "Model not include 要幸福\n",
      "Model not include 早日康复\n",
      "Model not include 不要放弃\n",
      "Model not include 元旦快乐\n",
      "Model not include 超越妹妹\n",
      "Model not include 争气点\n",
      "Model not include 努力实现\n",
      "Model not include 立个flag\n",
      "Model not include 下星期\n",
      "Model not include 打起精神\n",
      "Model not include 一定得\n",
      "Model not include 都要\n",
      "Model not include 再也不\n",
      "Model not include 想吃\n",
      "Model not include 想买\n",
      "Model not include 想去\n",
      "Model not include 许一个愿\n",
      "Model not include \n",
      "Model not include 温柔以待\n",
      "Model not include 不舒服\n",
      "Model not include 想哭\n",
      "Model not include 想死\n",
      "Model not include 悲催\n",
      "Model not include 要死了\n",
      "Model not include 呼吸困难\n",
      "Model not include 哭出来\n",
      "Model not include 不高兴\n",
      "Model not include 掉眼泪\n",
      "Model not include 废了\n",
      "Model not include 心情不好\n",
      "Model not include 负面情绪\n",
      "Model not include 负能量\n",
      "Model not include 小情绪\n",
      "Model not include 坏情绪\n",
      "Model not include 做不好\n",
      "Model not include 坏心情\n",
      "Model not include 诸事不顺\n",
      "Model not include 脑壳痛\n",
      "Model not include 不满意\n",
      "Model not include 哭出声\n",
      "Model not include 喘不过气\n",
      "Model not include 停滞不前\n",
      "Model not include 痛的领悟\n",
      "Model not include 挫败感\n",
      "Model not include 哭死\n",
      "Model not include 令人窒息\n",
      "Model not include 嘻嘻嘻\n",
      "Model not include 嗨森\n",
      "Model not include 心情好\n",
      "Model not include 合我意\n",
      "Model not include 啦啦啦\n",
      "Model not include 幸福美满\n",
      "Model not include 美好时光\n",
      "Model not include 啊哈哈哈哈\n",
      "Model not include (ಡωಡ)\n",
      "Model not include 笑死\n",
      "Model not include 爱得瑟\n",
      "Model not include 快乐源泉\n",
      "Model not include 笑喷\n",
      "Model not include 笑出猪叫\n",
      "Model not include 笑屎\n",
      "Model not include 嘿嘿嘿嘿嘿\n",
      "Model not include 乐出声\n",
      "Model not include 略略略\n",
      "Model not include 放飞自我\n",
      "Model not include 啦啦啦啦啦\n",
      "Model not include 哇咔咔\n",
      "Model not include 哦耶\n",
      "Model not include 呀呀呀\n",
      "Model not include 满血复活\n",
      "Model not include 棒棒哒\n",
      "Model not include 好天气\n",
      "Model not include wonderful\n",
      "Model not include 暖暖\n",
      "Model not include 晴空万里\n",
      "Model not include 艳阳高照\n",
      "Model not include 收获满满\n",
      "Model not include 温柔以待\n",
      "Model not include 恢复正常\n",
      "Model not include 不喜欢\n",
      "Model not include 没礼貌\n",
      "Model not include 不理解\n",
      "Model not include 不能忍\n",
      "Model not include 不尊重\n",
      "Model not include 不公平\n",
      "Model not include 不太喜欢\n",
      "Model not include 不适合\n",
      "Model not include 不友好\n",
      "Model not include 不满意\n",
      "Model not include 神经质\n",
      "Model not include 绿茶婊\n",
      "Model not include 想吐\n",
      "Model not include 真是够了\n",
      "Model not include 辣眼睛\n",
      "Model not include 这种人\n",
      "Model not include 渣男\n",
      "Model not include 键盘侠\n",
      "Model not include 够贱\n",
      "Model not include 猪队友\n",
      "Model not include 毁三观\n",
      "Model not include 心机婊\n",
      "Model not include 什么玩意\n",
      "Model not include 嫌你\n",
      "Model not include 破地方\n",
      "Model not include 恶不恶心\n",
      "Model not include 口腔溃疡\n",
      "Model not include 没耐心\n",
      "Model not include 不要逼脸\n",
      "Model not include 不接受\n",
      "Model not include 太吵了\n",
      "Model not include 双标狗\n",
      "Model not include 阴谋论\n",
      "Model not include 心理变态\n",
      "Model not include 神经兮兮\n",
      "Model not include 令人恶心\n",
      "Model not include 不甘心\n",
      "Model not include 不在状态\n",
      "Model not include 烦死了\n",
      "Model not include 脑壳疼\n",
      "Model not include 压力好大\n",
      "Model not include 要死了\n",
      "Model not include 要疯了\n",
      "Model not include 没准备\n",
      "Model not include 自我怀疑\n",
      "Model not include 压力大\n",
      "Model not include 停滞不前\n",
      "Model not include 吓尿\n",
      "Model not include 吓得我\n",
      "Model not include 心态崩了\n",
      "Model not include 操碎了心\n",
      "Model not include 喘不过气\n",
      "Model not include 挫败感\n",
      "Model not include 不思进取\n",
      "Model not include 诸事不顺\n",
      "Model not include 没耐心\n",
      "Model not include 精神压力\n",
      "Model not include 怕了\n",
      "Model not include 被掏空\n",
      "Model not include 无处安放\n",
      "Model not include 令人窒息\n",
      "Model not include 想死的心\n",
      "Model not include 煩躁\n",
      "Model not include 笑不出来\n",
      "Model not include 头皮发麻\n",
      "Model not include 什么鬼\n",
      "Model not include 一脸懵逼\n",
      "Model not include 吓我一跳\n",
      "Model not include 我的妈呀\n",
      "Model not include 什么情况\n",
      "Model not include 我的天\n",
      "Model not include 被放鸽子\n",
      "Model not include 不理解\n",
      "Model not include 闹哪样\n",
      "Model not include 咋回事\n",
      "Model not include 我的妈啊\n",
      "Model not include 超乎想象\n",
      "Model not include 爱吃\n",
      "Model not include 爱你\n",
      "Model not include 爱的人\n",
      "Model not include 有眼光\n",
      "Model not include 理想型\n",
      "Model not include 合我意\n",
      "Model not include 想你\n",
      "Model not include 小天使\n",
      "Model not include 小仙女\n",
      "Model not include 了不起了\n",
      "Model not include 厉害了\n",
      "Model not include 太甜了\n",
      "Model not include 好甜\n",
      "Model not include 小公主\n",
      "Model not include 小哥哥\n",
      "Model not include 么么哒\n",
      "Model not include 亲耐\n",
      "Model not include 太美了\n",
      "Model not include wuli\n",
      "Model not include 小公举\n",
      "Model not include 人美心善\n",
      "Model not include 盛世美颜\n",
      "Model not include 好天气\n",
      "Model not include 鼎力支持\n",
      "Model not include 业界良心\n",
      "Model not include 不可方物\n",
      "Model not include 美炸了\n",
      "Model not include 太赞了\n",
      "Model not include 一股清流\n",
      "Model not include 无法抗拒\n",
      "Model not include 帅弯\n",
      "Model not include 毫无抵抗力\n",
      "Model not include 痴汉脸\n",
      "Model not include 心都化了\n",
      "Model not include 去死\n",
      "Model not include 妈的\n",
      "Model not include 说脏话\n",
      "Model not include 特么的\n",
      "Model not include 去你妈的\n",
      "Model not include 真是够了\n",
      "Model not include 该死的\n",
      "Model not include 真是醉了\n",
      "Model not include 什么玩意\n",
      "Model not include 撕逼\n",
      "Model not include 气死了\n",
      "Model not include 有毛病\n",
      "Model not include 无fuck说\n",
      "Model not include 网络暴力\n",
      "Model not include 瞎bb\n",
      "Model not include 气的我\n",
      "Model not include 什么毛病\n",
      "Model not include 日了狗\n",
      "Model not include 死娘\n",
      "Model not include 日狗了\n",
      "Model not include 你妈啊\n",
      "Model not include 哔了狗\n",
      "Model not include 妈的智障\n",
      "Model not include 深井冰\n",
      "Model not include 原地爆炸\n",
      "Model not include 马勒戈壁\n",
      "Model not include 关我屁事\n",
      "Model not include 掐死你\n",
      "Model not include 怼人\n",
      "Model not include 妈了个逼\n",
      "Model not include 闹哪样\n",
      "Model not include 狗改不了吃屎\n",
      "Model not include 不要逼脸\n",
      "Model not include 辣眼睛\n",
      "Model not include 起床气\n",
      "Model not include 戾气\n",
      "Model not include 心理变态\n",
      "Model not include 不满意\n",
      "Model not include 傻逼东西\n",
      "Model not include 偷税漏税\n",
      "Model not include 虐妻\n",
      "Model not include 臭毛病\n",
      "Model not include 强奸犯\n",
      "Model not include 逼死人\n",
      "Model not include 良心不会痛吗\n",
      "Model not include 关我什么事\n",
      "Model not include 日他妈\n",
      "Model not include 管你屁事\n",
      "Model not include 无处发泄\n",
      "Model not include 见鬼去吧\n",
      "Model not include 骗人的\n",
      "Mood 期望: 326/358(91.06%)\n",
      "Mood 悲伤: 434/461(94.14%)\n",
      "Mood 快乐: 395/428(92.29%)\n",
      "Mood 厌恶: 343/379(90.50%)\n",
      "Mood 焦虑: 353/382(92.41%)\n",
      "Mood 惊讶: 119/131(90.84%)\n",
      "Mood 喜爱: 587/621(94.52%)\n",
      "Mood 愤怒: 345/396(87.12%)\n"
     ]
    }
   ],
   "source": [
    "mood_vector = {}\n",
    "cnt = {}\n",
    "all_cnt = {}\n",
    "for mood in mood_dict.keys():\n",
    "    cnt[mood] = 0\n",
    "    all_cnt[mood] = 0\n",
    "    vectors = []\n",
    "    for word in mood_dict[mood]:\n",
    "        try:\n",
    "            v = model.get_vector(word)\n",
    "            cnt[mood] += 1\n",
    "            vectors.append(v/np.linalg.norm(v))\n",
    "        except:\n",
    "            print(\"Model not include %s\"%(word))\n",
    "        all_cnt[mood] += 1\n",
    "    mood_vector[mood] = np.array(vectors)\n",
    "for mood in cnt.keys():\n",
    "    print(\"Mood %s: %d/%d(%.2f%%)\"%(mood,cnt[mood],all_cnt[mood],cnt[mood]/all_cnt[mood]*100))"
   ]
  },
  {
   "cell_type": "code",
   "execution_count": 171,
   "metadata": {
    "scrolled": false
   },
   "outputs": [
    {
     "data": {
      "text/plain": [
       "dict_keys(['期望', '悲伤', '快乐', '厌恶', '焦虑', '惊讶', '喜爱', '愤怒'])"
      ]
     },
     "execution_count": 171,
     "metadata": {},
     "output_type": "execute_result"
    }
   ],
   "source": [
    "mood_dict.keys()"
   ]
  },
  {
   "cell_type": "code",
   "execution_count": 620,
   "metadata": {},
   "outputs": [
    {
     "name": "stdout",
     "output_type": "stream",
     "text": [
      "期望 326\n",
      "悲伤 434\n",
      "快乐 395\n",
      "厌恶 343\n",
      "焦虑 353\n",
      "惊讶 119\n",
      "喜爱 587\n",
      "愤怒 345\n"
     ]
    }
   ],
   "source": [
    "all_cnt = 0\n",
    "for k,v in mood_vector.items():\n",
    "    print(k,len(v))\n",
    "    all_cnt += len(v)"
   ]
  },
  {
   "cell_type": "code",
   "execution_count": 622,
   "metadata": {},
   "outputs": [
    {
     "data": {
      "text/plain": [
       "2902"
      ]
     },
     "execution_count": 622,
     "metadata": {},
     "output_type": "execute_result"
    }
   ],
   "source": [
    "all_cnt"
   ]
  },
  {
   "cell_type": "code",
   "execution_count": 193,
   "metadata": {
    "scrolled": true
   },
   "outputs": [
    {
     "data": {
      "application/vnd.jupyter.widget-view+json": {
       "model_id": "",
       "version_major": 2,
       "version_minor": 0
      },
      "text/plain": [
       "HBox(children=(IntProgress(value=1, bar_style='info', max=1), HTML(value='')))"
      ]
     },
     "metadata": {},
     "output_type": "display_data"
    },
    {
     "name": "stdout",
     "output_type": "stream",
     "text": [
      "\n"
     ]
    }
   ],
   "source": [
    "# split words and get similarity\n",
    "weibo_sim = {} # id:{mood:[w1_sim,w2_sim,...],}\n",
    "all_ids = All_weibo[\"id\"].tolist()\n",
    "all_content = All_weibo[\"content\"].tolist()\n",
    "for idx, content in tqdm(zip(all_ids,all_content)):\n",
    "    weibo_sim[idx] = {}\n",
    "    content,vectors = split_weibo(content,do=0)\n",
    "    for key in mood_vector.keys():\n",
    "        weibo_sim[idx][key] = np.matmul(vectors,mood_vector[key].T).max(axis=1)"
   ]
  },
  {
   "cell_type": "code",
   "execution_count": 640,
   "metadata": {
    "scrolled": true
   },
   "outputs": [
    {
     "data": {
      "application/vnd.jupyter.widget-view+json": {
       "model_id": "b773781c8bc44a82a672dc4aee9fd4da",
       "version_major": 2,
       "version_minor": 0
      },
      "text/plain": [
       "HBox(children=(IntProgress(value=1, bar_style='info', max=1), HTML(value='')))"
      ]
     },
     "metadata": {},
     "output_type": "display_data"
    },
    {
     "name": "stdout",
     "output_type": "stream",
     "text": [
      "\n"
     ]
    }
   ],
   "source": [
    "random_weibo = pd.read_csv(\"../Random_data/random_data.csv\")\n",
    "# split words and get similarity\n",
    "weibo_sim_rnd = {} # id:{mood:[w1_sim,w2_sim,...],}\n",
    "random_ids = random_weibo[\"_id\"].tolist()\n",
    "random_content = random_weibo[\"content\"].tolist()\n",
    "for idx, content in tqdm(zip(random_ids,random_content)):\n",
    "    weibo_sim_rnd[idx] = {}\n",
    "    content,vectors = split_weibo(content,do=0)\n",
    "    if len(vectors)>0:\n",
    "        for key in mood_vector.keys():\n",
    "            weibo_sim_rnd[idx][key] = np.matmul(vectors,mood_vector[key].T).max(axis=1)"
   ]
  },
  {
   "cell_type": "code",
   "execution_count": 634,
   "metadata": {},
   "outputs": [
    {
     "data": {
      "text/plain": [
       "('Ix5yX2Gto', [])"
      ]
     },
     "execution_count": 634,
     "metadata": {},
     "output_type": "execute_result"
    }
   ],
   "source": [
    "idx, content"
   ]
  },
  {
   "cell_type": "code",
   "execution_count": 614,
   "metadata": {},
   "outputs": [],
   "source": [
    "def draw_multiple(Fast_m,Slow_m,labels=[],xlabels=[\"Fast\",\"Slow\"]):\n",
    "    plt.figure(figsize=(16,5))\n",
    "    ax1 = plt.subplot(1,2,1)\n",
    "    ax1.bar(range(len(labels)),Fast_m)\n",
    "    ax2 = plt.subplot(1,2,2)\n",
    "    ax2.bar(range(len(labels)),Slow_m)\n",
    "    ax1.set_xticks(range(len(labels)))\n",
    "    ax1.set_xticklabels(labels,fontsize=12)\n",
    "    ax2.set_xticks(range(len(labels)))\n",
    "    ax2.set_xticklabels(labels,fontsize=12)\n",
    "    for i,v in enumerate(Fast_m.tolist()):\n",
    "        ax1.text(i,v,\"%.4f\"%(v),ha='center',fontsize=14)\n",
    "    for i,v in enumerate(Slow_m.tolist()):\n",
    "        ax2.text(i,v,\"%.4f\"%(v),ha='center',fontsize=14)\n",
    "    ax1.set_xlabel(xlabels[0],fontsize=18)\n",
    "    ax2.set_xlabel(xlabels[1],fontsize=18)\n",
    "    Min = min(Fast_m.min(),Slow_m.min())\n",
    "    Max = max(Fast_m.max(),Slow_m.max())\n",
    "    ax1.set_ylim(Min*0.95,Max*1.05)\n",
    "    ax2.set_ylim(Min*0.95,Max*1.05)"
   ]
  },
  {
   "cell_type": "code",
   "execution_count": 316,
   "metadata": {},
   "outputs": [],
   "source": [
    "moods = ['喜爱','快乐','期望','惊讶']+[x for x in sorted(mood_vector.keys()) if x not in ['喜爱','快乐','期望','惊讶']]\n",
    "moods_eng = [\"love\",\"joy\",'hope','surprise',\"disgust\",\"sad\",\"angry\",\"anxiety\"]"
   ]
  },
  {
   "cell_type": "code",
   "execution_count": 629,
   "metadata": {},
   "outputs": [
    {
     "data": {
      "text/plain": [
       "(15,)"
      ]
     },
     "execution_count": 629,
     "metadata": {},
     "output_type": "execute_result"
    }
   ],
   "source": [
    "weibo_m.max(axis=0).shape"
   ]
  },
  {
   "cell_type": "code",
   "execution_count": 536,
   "metadata": {
    "scrolled": false
   },
   "outputs": [
    {
     "data": {
      "text/plain": [
       "Fast    35372\n",
       "Slow     3527\n",
       "Name: time, dtype: int64"
      ]
     },
     "metadata": {},
     "output_type": "display_data"
    },
    {
     "data": {
      "image/png": "[encoded data removed]",
      "text/plain": [
       "<Figure size 1152x360 with 2 Axes>"
      ]
     },
     "metadata": {
      "needs_background": "light"
     },
     "output_type": "display_data"
    }
   ],
   "source": [
    "# 取情绪较强的word在每种情绪下的score的均值（最终确定）\n",
    "threshold = 0.8\n",
    "weibo_avgsim = {} # id:[]\n",
    "for idx in weibo_sim:\n",
    "    weibo_m = np.array([weibo_sim[idx][m] for m in moods])\n",
    "    if (weibo_m.max(axis=0)>threshold).sum()>0:\n",
    "        weibo_avgsim[idx] = weibo_m[:,np.where(weibo_m.max(axis=0)>threshold)].reshape(weibo_m.shape[0],-1).mean(axis=1)\n",
    "#     weibo_avgsim[idx] = [weibo_sim[idx][mood].mean() for mood in moods]\n",
    "weibo_moods = pd.DataFrame.from_dict(weibo_avgsim,orient='index',columns=moods)\n",
    "weibo_moods = weibo_moods.reset_index().rename(columns={\"index\":\"id\"})\n",
    "weibo_moods = weibo_moods.merge(All_weibo[[\"id\",\"content\",\"time\"]],on=\"id\",how=\"left\")\n",
    "display(weibo_moods.time.value_counts())\n",
    "draw_multiple(weibo_moods.loc[weibo_moods.time==\"Fast\",moods].mean().values,\n",
    "              weibo_moods.loc[weibo_moods.time==\"Slow\",moods].mean().values,moods_eng)"
   ]
  },
  {
   "cell_type": "code",
   "execution_count": 643,
   "metadata": {
    "scrolled": false
   },
   "outputs": [],
   "source": [
    "# 取情绪较强的word在每种情绪下的score的均值（最终确定）\n",
    "threshold = 0.8\n",
    "weibo_avgsim_rnd = {} # id:[]\n",
    "for idx in weibo_sim_rnd:\n",
    "    if len(weibo_sim_rnd[idx]):\n",
    "        weibo_m_rnd = np.array([weibo_sim_rnd[idx][m] for m in moods])\n",
    "        if (weibo_m_rnd.max(axis=0)>threshold).sum()>0:\n",
    "            weibo_avgsim_rnd[idx] = weibo_m_rnd[:,np.where(weibo_m_rnd.max(axis=0)>threshold)].reshape(weibo_m_rnd.shape[0],-1).mean(axis=1)\n",
    "#     weibo_avgsim_rnd[idx] = [weibo_sim_rnd[idx][mood].mean() for mood in moods]\n",
    "weibo_m_rndoods = pd.DataFrame.from_dict(weibo_avgsim_rnd,orient='index',columns=moods)\n",
    "weibo_m_rndoods = weibo_m_rndoods.reset_index().rename(columns={\"index\":\"id\"})\n",
    "# weibo_m_rndoods = weibo_m_rndoods.merge(All_weibo[[\"id\",\"content\",\"time\"]],on=\"id\",how=\"left\")\n",
    "# display(weibo_m_rndoods.time.value_counts())\n",
    "# draw_multiple(weibo_m_rndoods.loc[weibo_m_rndoods.time==\"Fast\",moods].mean().values,\n",
    "#               weibo_m_rndoods.loc[weibo_m_rndoods.time==\"Slow\",moods].mean().values,moods_eng)"
   ]
  },
  {
   "cell_type": "code",
   "execution_count": 645,
   "metadata": {},
   "outputs": [],
   "source": [
    "weibo_m_rndoods.to_csv(\"pred_results/8mood_sim_rnd.csv\",index=False)"
   ]
  },
  {
   "cell_type": "code",
   "execution_count": 579,
   "metadata": {
    "scrolled": false
   },
   "outputs": [
    {
     "data": {
      "text/plain": [
       "喜爱    0.510834\n",
       "快乐    0.554516\n",
       "期望    0.554453\n",
       "惊讶    0.429868\n",
       "厌恶    0.422256\n",
       "悲伤    0.547676\n",
       "愤怒    0.408685\n",
       "焦虑    0.567278\n",
       "dtype: float64"
      ]
     },
     "execution_count": 579,
     "metadata": {},
     "output_type": "execute_result"
    }
   ],
   "source": [
    "weibo_moods.loc[weibo_moods.time==\"Slow\",moods].mean()"
   ]
  },
  {
   "cell_type": "code",
   "execution_count": 580,
   "metadata": {
    "scrolled": true
   },
   "outputs": [],
   "source": [
    "os.makedirs(\"pred_results\",exist_ok=True)\n",
    "weibo_moods.drop_duplicates(subset=[\"id\"],inplace=True)\n",
    "weibo_moods.to_csv(\"./pred_results/8mood_w2v_simscore.csv\",index=False)"
   ]
  },
  {
   "cell_type": "code",
   "execution_count": 586,
   "metadata": {},
   "outputs": [],
   "source": [
    "cnt_mood = pd.read_csv(\"./matching_detail.csv\")"
   ]
  },
  {
   "cell_type": "code",
   "execution_count": 591,
   "metadata": {},
   "outputs": [],
   "source": [
    "cnt_mood.drop_duplicates(subset=[\"id\"],inplace=True)"
   ]
  },
  {
   "cell_type": "code",
   "execution_count": 593,
   "metadata": {
    "scrolled": true
   },
   "outputs": [
    {
     "data": {
      "text/plain": [
       "((44583, 11), (38878, 11), (44577, 31))"
      ]
     },
     "execution_count": 593,
     "metadata": {},
     "output_type": "execute_result"
    }
   ],
   "source": [
    "cnt_mood.shape,weibo_moods.shape,All_weibo.shape"
   ]
  },
  {
   "cell_type": "code",
   "execution_count": 597,
   "metadata": {},
   "outputs": [],
   "source": [
    "cnt_mood = cnt_mood.loc[cnt_mood[\"id\"].isin(All_weibo[\"id\"].tolist())]"
   ]
  },
  {
   "cell_type": "code",
   "execution_count": 598,
   "metadata": {
    "scrolled": false
   },
   "outputs": [
    {
     "data": {
      "text/plain": [
       "((44577, 11), (38878, 11), (44577, 31))"
      ]
     },
     "execution_count": 598,
     "metadata": {},
     "output_type": "execute_result"
    }
   ],
   "source": [
    "cnt_mood.shape,weibo_moods.shape,All_weibo.shape"
   ]
  },
  {
   "cell_type": "code",
   "execution_count": 605,
   "metadata": {},
   "outputs": [
    {
     "data": {
      "image/png": "[encoded data removed]",
      "text/plain": [
       "<Figure size 1152x360 with 2 Axes>"
      ]
     },
     "metadata": {
      "needs_background": "light"
     },
     "output_type": "display_data"
    }
   ],
   "source": [
    "draw_multiple(cnt_mood.loc[cnt_mood.time==\"Fast\",moods].mean().values,\n",
    "              cnt_mood.loc[cnt_mood.time==\"Slow\",moods].mean().values,moods_eng)"
   ]
  },
  {
   "cell_type": "code",
   "execution_count": 617,
   "metadata": {},
   "outputs": [
    {
     "data": {
      "image/png": "[encoded data removed]",
      "text/plain": [
       "<Figure size 1152x360 with 2 Axes>"
      ]
     },
     "metadata": {
      "needs_background": "light"
     },
     "output_type": "display_data"
    }
   ],
   "source": [
    "draw_multiple(weibo_moods[moods].mean().values,\n",
    "             cnt_mood[moods].mean().values,moods_eng,xlabels=[\"Similarity-based\",\"Word count-based\"])"
   ]
  },
  {
   "cell_type": "code",
   "execution_count": 602,
   "metadata": {},
   "outputs": [],
   "source": [
    "cnt_mood.to_csv(\"./pred_results/8mood_cnt_normscore.csv\",index=False)"
   ]
  }
 ],
 "metadata": {
  "kernelspec": {
   "display_name": "Python 3",
   "language": "python",
   "name": "python3"
  },
  "language_info": {
   "codemirror_mode": {
    "name": "ipython",
    "version": 3
   },
   "file_extension": ".py",
   "mimetype": "text/x-python",
   "name": "python",
   "nbconvert_exporter": "python",
   "pygments_lexer": "ipython3",
   "version": "3.6.13"
  }
 },
 "nbformat": 4,
 "nbformat_minor": 2
}
